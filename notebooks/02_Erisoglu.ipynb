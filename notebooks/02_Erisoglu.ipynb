{
 "cells": [
  {
   "cell_type": "markdown",
   "metadata": {},
   "source": [
    "# Erisoglu 2011 \"New\" Algorithm"
   ]
  },
  {
   "cell_type": "markdown",
   "metadata": {},
   "source": [
    "See: [A new algorithm for initial cluster centers in k-means algorithm](https://www.sciencedirect.com/science/article/pii/S0167865511002248)"
   ]
  },
  {
   "cell_type": "markdown",
   "metadata": {},
   "source": [
    "## Initial setup and configuration"
   ]
  },
  {
   "cell_type": "code",
   "execution_count": 1,
   "metadata": {
    "scrolled": false
   },
   "outputs": [],
   "source": [
    "import imports\n",
    "import numpy as np\n",
    "import sklearn.datasets as skdatasets\n",
    "import sklearn.metrics as skmetrics \n",
    "from metrics import accuracy\n",
    "from matplotlib import pyplot as plt\n",
    "import kmeans\n",
    "from initialisations import erisoglu as erisoglu"
   ]
  },
  {
   "cell_type": "code",
   "execution_count": 2,
   "metadata": {},
   "outputs": [],
   "source": [
    "dataset = skdatasets.load_iris()\n",
    "data = dataset.data\n",
    "target = dataset.target\n",
    "\n",
    "K = 3\n",
    "\n",
    "eris = erisoglu.Erisoglu(data, K)\n"
   ]
  },
  {
   "cell_type": "markdown",
   "metadata": {},
   "source": [
    "## Attempts to reproduce results"
   ]
  },
  {
   "cell_type": "markdown",
   "metadata": {},
   "source": [
    "### Some descriptive statistics (Table 1)"
   ]
  },
  {
   "cell_type": "code",
   "execution_count": 3,
   "metadata": {},
   "outputs": [
    {
     "name": "stdout",
     "output_type": "stream",
     "text": [
      "sepal length (cm): mean=5.843333, stdddev=0.825301, cvj=0.825301, \n",
      "sepal width (cm): mean=3.057333, stdddev=0.434411, cvj=0.434411, \n",
      "petal length (cm): mean=3.758000, stdddev=1.759404, cvj=1.759404, \n",
      "petal width (cm): mean=1.199333, stdddev=0.759693, cvj=0.759693, \n"
     ]
    }
   ],
   "source": [
    "for i in range(0, len(dataset.feature_names)):\n",
    "    \n",
    "    mean = np.mean(dataset.data.T[i])\n",
    "    stddev = np.std(dataset.data.T[i])\n",
    "    cvj = eris.variation_coefficient(dataset.data.T[i])\n",
    "    \n",
    "    print('%s: mean=%f, stdddev=%f, cvj=%f, ' % (dataset.feature_names[i], mean, stddev, cvj))\n",
    "    "
   ]
  },
  {
   "cell_type": "markdown",
   "metadata": {},
   "source": [
    "**TODO:** why is standard deviation slightly different?"
   ]
  },
  {
   "cell_type": "markdown",
   "metadata": {},
   "source": [
    "### Correlations with other features (Table 2)"
   ]
  },
  {
   "cell_type": "code",
   "execution_count": 4,
   "metadata": {},
   "outputs": [
    {
     "name": "stdout",
     "output_type": "stream",
     "text": [
      "sepal length (cm):\t0.817941\n",
      "sepal width (cm):\t-0.366126\n",
      "petal length (cm):\t0.962865\n"
     ]
    }
   ],
   "source": [
    "for i in [0,1,2]:\n",
    "    \n",
    "    corr = eris.correlation_coefficient(data.T[3], data.T[i])\n",
    "    \n",
    "    print('%s:\\t%f' % (dataset.feature_names[i], corr))"
   ]
  },
  {
   "cell_type": "markdown",
   "metadata": {},
   "source": [
    "**NOTE:** these match the paper exactly as long as we amend the correlation coefficient to Pearson's."
   ]
  },
  {
   "cell_type": "markdown",
   "metadata": {},
   "source": [
    "### Paper selects petal width, sepal width as main, secondary:"
   ]
  },
  {
   "cell_type": "code",
   "execution_count": 5,
   "metadata": {
    "scrolled": true
   },
   "outputs": [
    {
     "name": "stdout",
     "output_type": "stream",
     "text": [
      "Main feature deemed to be: petal length (cm)\n",
      "Secondary feature deemed to be: sepal width (cm)\n"
     ]
    }
   ],
   "source": [
    "main = eris._find_main_axis(data.T)\n",
    "secondary = eris._find_secondary_axis(data.T, main)\n",
    "\n",
    "print(\"Main feature deemed to be: %s\" % (dataset.feature_names[main]))\n",
    "print(\"Secondary feature deemed to be: %s\" % (dataset.feature_names[secondary]))"
   ]
  },
  {
   "cell_type": "markdown",
   "metadata": {},
   "source": [
    "### Paper selects *m* = [1.993, 3.0573]"
   ]
  },
  {
   "cell_type": "code",
   "execution_count": 6,
   "metadata": {
    "scrolled": true
   },
   "outputs": [
    {
     "name": "stdout",
     "output_type": "stream",
     "text": [
      "Center was: [3.7580000000000005, 3.0573333333333337]\n",
      "Initial seed is: 118\n"
     ]
    }
   ],
   "source": [
    "initial, axes = eris._initialise()\n",
    "center = eris._find_center(data.T, axes)\n",
    "\n",
    "print(\"Center was:\", center)\n",
    "print(\"Initial seed is:\", initial)"
   ]
  },
  {
   "cell_type": "markdown",
   "metadata": {},
   "source": [
    "### Find candidates (c1...K)"
   ]
  },
  {
   "cell_type": "code",
   "execution_count": 7,
   "metadata": {},
   "outputs": [
    {
     "name": "stdout",
     "output_type": "stream",
     "text": [
      "[[7.7 2.6 6.9 2.3]\n",
      " [4.6 3.6 1.  0.2]\n",
      " [4.5 2.3 1.3 0.3]]\n"
     ]
    }
   ],
   "source": [
    "c = eris._generate_candidates(initial, axes)\n",
    "\n",
    "print(c)"
   ]
  },
  {
   "cell_type": "markdown",
   "metadata": {},
   "source": [
    "Which match the graph and distances in the paper:\n",
    "\n",
    "![alt text](ss1.png \"Logo Title Text 1\")\n",
    "\n"
   ]
  },
  {
   "cell_type": "markdown",
   "metadata": {},
   "source": [
    "### Try to replicate means of initial clusters (M1...K)\n",
    "\n",
    "Paper gives (with order corrected):\n",
    "\n",
    "    m1 = [5.1774, 3.6516, 1.4903, 0.2677]  \n",
    "    m2 = [6.4024, 2.9506, 5.1193, 1.7916]  \n",
    "    m3 = [5.1278, 2.7917, 2.5722, 0.6361]"
   ]
  },
  {
   "cell_type": "code",
   "execution_count": 8,
   "metadata": {},
   "outputs": [
    {
     "name": "stdout",
     "output_type": "stream",
     "text": [
      "[[6.40952381 2.9452381  5.13333333 1.77738095]\n",
      " [5.04318182 3.50454545 1.46818182 0.25      ]\n",
      " [5.28181818 2.59090909 3.08636364 0.89090909]]\n"
     ]
    }
   ],
   "source": [
    "M = eris.find_centers()\n",
    "\n",
    "print(M)"
   ]
  },
  {
   "cell_type": "markdown",
   "metadata": {},
   "source": [
    "## Run k-means"
   ]
  },
  {
   "cell_type": "code",
   "execution_count": 9,
   "metadata": {
    "scrolled": true
   },
   "outputs": [
    {
     "name": "stdout",
     "output_type": "stream",
     "text": [
      "[1 1 1 1 1 1 1 1 1 1 1 1 1 1 1 1 1 1 1 1 1 1 1 1 1 1 1 1 1 1 1 1 1 1 1 1 1\n",
      " 1 1 1 1 1 1 1 1 1 1 1 1 1 0 2 0 2 2 2 2 2 2 2 2 2 2 2 2 2 2 2 2 2 2 2 2 2\n",
      " 2 2 2 0 2 2 2 2 2 2 2 2 2 2 2 2 2 2 2 2 2 2 2 2 2 2 0 2 0 0 0 0 2 0 0 0 0\n",
      " 0 0 2 2 0 0 0 0 2 0 2 0 2 0 0 2 2 0 0 0 0 0 2 0 0 0 0 2 0 0 0 2 0 0 0 2 0\n",
      " 0 2]\n"
     ]
    }
   ],
   "source": [
    "result = kmeans.cluster(data, K, M.copy())\n",
    "\n",
    "print(result['labels'])"
   ]
  },
  {
   "cell_type": "markdown",
   "metadata": {},
   "source": [
    "### Metrics"
   ]
  },
  {
   "cell_type": "code",
   "execution_count": 10,
   "metadata": {},
   "outputs": [
    {
     "name": "stdout",
     "output_type": "stream",
     "text": [
      "Adjusted Rand Index: 0.7163421126838475\n",
      "Accuracy score: 0.8866666666666667\n"
     ]
    }
   ],
   "source": [
    "ari = skmetrics.adjusted_rand_score(target, result['labels'])\n",
    "print(\"Adjusted Rand Index:\", ari)\n",
    "\n",
    "print(\"Accuracy score:\", accuracy.score(target, result['labels']))"
   ]
  },
  {
   "cell_type": "markdown",
   "metadata": {},
   "source": [
    "**NOTE:** paper uses Rand Index, which doesn't seem to be offered in eg. sklearn."
   ]
  },
  {
   "cell_type": "markdown",
   "metadata": {},
   "source": [
    "## Graphs "
   ]
  },
  {
   "cell_type": "markdown",
   "metadata": {},
   "source": [
    "### Fig. 4a"
   ]
  },
  {
   "cell_type": "code",
   "execution_count": 11,
   "metadata": {},
   "outputs": [
    {
     "data": {
      "image/png": "[encoded data removed]",
      "text/plain": [
       "<Figure size 360x288 with 2 Axes>"
      ]
     },
     "metadata": {
      "needs_background": "light"
     },
     "output_type": "display_data"
    }
   ],
   "source": [
    "formatter = plt.FuncFormatter(lambda i, *args: dataset.target_names[int(i)])\n",
    "\n",
    "plt.figure(figsize=(5, 4))\n",
    "\n",
    "# nb. The paper plots them in a counter-intuitive fashion\n",
    "plt.scatter(data[:, axes.secondary], data[:, axes.main], c=target)\n",
    "plt.colorbar(ticks=[0, 1, 2], format=formatter)\n",
    "plt.xlabel(dataset.feature_names[axes.secondary])\n",
    "plt.ylabel(dataset.feature_names[axes.main])\n",
    "\n",
    "plt.tight_layout()\n",
    "plt.show()"
   ]
  },
  {
   "cell_type": "code",
   "execution_count": null,
   "metadata": {},
   "outputs": [],
   "source": []
  }
 ],
 "metadata": {
  "kernelspec": {
   "display_name": "Python 3",
   "language": "python",
   "name": "python3"
  },
  "language_info": {
   "codemirror_mode": {
    "name": "ipython",
    "version": 3
   },
   "file_extension": ".py",
   "mimetype": "text/x-python",
   "name": "python",
   "nbconvert_exporter": "python",
   "pygments_lexer": "ipython3",
   "version": "3.8.3"
  }
 },
 "nbformat": 4,
 "nbformat_minor": 2
}
