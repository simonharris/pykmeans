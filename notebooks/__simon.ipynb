{
 "cells": [
  {
   "cell_type": "code",
   "execution_count": 106,
   "metadata": {
    "scrolled": true
   },
   "outputs": [
    {
     "data": {
      "image/png": "[encoded data removed]",
      "text/plain": [
       "<Figure size 432x288 with 1 Axes>"
      ]
     },
     "metadata": {},
     "output_type": "display_data"
    }
   ],
   "source": [
    "import imports\n",
    "\n",
    "from matplotlib import pyplot as plt\n",
    "import numpy as np\n",
    "import seaborn as sns; \n",
    "sns.set(\n",
    "#    style=\"ticks\", \n",
    "    color_codes=True, \n",
    "    style=\"darkgrid\"\n",
    ")\n",
    "\n",
    "from datasets import testloader\n",
    "from initialisations import skmi2020 as skmi\n",
    "from kmeans import distance_table\n",
    "from metrics import accuracy\n",
    "import nbutils\n",
    "\n",
    "dataset = testloader._load_local('5_2_1000_r_1.5_010')\n",
    "# dataset = testloader._load_local('skmi_test')\n",
    "data = dataset.data\n",
    "target = dataset.target\n",
    "\n",
    "C = []\n",
    "K = 20\n",
    "\n",
    "\n",
    "def _find_awesome_centroid(data):\n",
    "    \"\"\"The sexiest point\"\"\"\n",
    "    \n",
    "    # Data grand mean\n",
    "    meanie2 = np.mean(data, axis=0)\n",
    "\n",
    "    # Sum of distances to all other x_i \\in X\n",
    "    distances = distance_table(data, data)\n",
    "    sum_dist = np.sum(distances, axis=1)  # doesn't matter which axis\n",
    "    \n",
    "    # Distances to data grand mean\n",
    "    distances_mean = distance_table(np.array([meanie2]), data)[0]\n",
    "    # print(distances_mean)\n",
    "\n",
    "    THETA = 100 #-0.0000000005\n",
    "    \n",
    "    obj = sum_dist / ((distances_mean) * -THETA)\n",
    "\n",
    "    # print(\"SD:\\n\", sum_dist)\n",
    "    # print(\"DM:\\n\", distances_mean)\n",
    "    # print(\"OF:\\n\", obj)\n",
    "    \n",
    "    return data[np.argmin(obj)]\n",
    "\n",
    "\n",
    "HDP = _find_awesome_centroid(data)\n",
    "\n",
    "# print(HDP)\n",
    "\n",
    "# plt.figure(figsize=(5, 4))\n",
    "\n",
    "my_c = None\n",
    "# my_c = target\n",
    "\n",
    "# the main data\n",
    "plt.scatter(data[:, 0], data[:, 1], c=my_c)\n",
    "\n",
    "# Data grand mean\n",
    "meanie = np.mean(data, axis=0)\n",
    "plt.scatter(meanie[0], meanie[1], c='red')\n",
    "\n",
    "# My cool points\n",
    "plt.scatter(HDP[0], HDP[1], c='orange')\n",
    "\n",
    "my_temp_centroids = np.array([HDP])\n",
    "\n",
    "# My distraction 1\n",
    "my_dd = distance_table(my_temp_centroids, data)\n",
    "my_weird_one = data[np.argmax(my_dd)]\n",
    "plt.scatter(my_weird_one[0], my_weird_one[1], c='pink')\n",
    "\n",
    "my_temp_centroids = np.vstack((my_temp_centroids, my_weird_one))\n",
    "\n",
    "# My distraction ->\n",
    "while len(my_temp_centroids) < K:\n",
    "    \n",
    "    # print(\"I am looping because\", len(my_temp_centroids), \"<\", K)\n",
    "    \n",
    "    latest_mean = np.mean(my_temp_centroids, axis=0)\n",
    "    # print(latest_mean)\n",
    "    plt.scatter(latest_mean[0], latest_mean[1], c='green')\n",
    "\n",
    "    my_dd = distance_table(np.array([latest_mean]), data)\n",
    "    my_weird_one = data[np.argmax(my_dd)]\n",
    "    plt.scatter(my_weird_one[0], my_weird_one[1], c='pink')\n",
    "    plt.text(my_weird_one[0], my_weird_one[1], len(my_temp_centroids), fontsize=9)\n",
    "    \n",
    "    my_temp_centroids = np.vstack((my_temp_centroids, my_weird_one))\n",
    "\n",
    "# plt.tight_layout()\n",
    "plt.show()"
   ]
  },
  {
   "cell_type": "code",
   "execution_count": 104,
   "metadata": {
    "scrolled": false
   },
   "outputs": [],
   "source": [
    "# nbutils.run_clustering(skmi)"
   ]
  },
  {
   "cell_type": "code",
   "execution_count": null,
   "metadata": {},
   "outputs": [],
   "source": []
  }
 ],
 "metadata": {
  "kernelspec": {
   "display_name": "Python 3",
   "language": "python",
   "name": "python3"
  },
  "language_info": {
   "codemirror_mode": {
    "name": "ipython",
    "version": 3
   },
   "file_extension": ".py",
   "mimetype": "text/x-python",
   "name": "python",
   "nbconvert_exporter": "python",
   "pygments_lexer": "ipython3",
   "version": "3.7.1"
  }
 },
 "nbformat": 4,
 "nbformat_minor": 2
}
